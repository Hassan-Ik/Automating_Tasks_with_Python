{
 "cells": [
  {
   "cell_type": "markdown",
   "id": "2dfaf133",
   "metadata": {},
   "source": [
    "# News Extraction\n",
    "\n",
    "In this notebook, I am going to summarize news text, url etc.."
   ]
  },
  {
   "cell_type": "code",
   "execution_count": 1,
   "id": "910dd1d9",
   "metadata": {},
   "outputs": [],
   "source": [
    "# Web Scraping\n",
    "from bs4 import BeautifulSoup\n",
    "# Https requests\n",
    "from requests import get"
   ]
  },
  {
   "cell_type": "markdown",
   "id": "dbc2b474",
   "metadata": {},
   "source": [
    "### Creating a function to Extract Text from `<p>` tag only"
   ]
  },
  {
   "cell_type": "code",
   "execution_count": 2,
   "id": "12683be6",
   "metadata": {},
   "outputs": [],
   "source": [
    "def get_only_text(url):\n",
    "    \"\"\"\n",
    "        Function to return the title and text of the article at the specified url\n",
    "    \"\"\"\n",
    "    page = get(url)\n",
    "    soup = BeautifulSoup(page.content, \"lxml\")\n",
    "    text = ' '.join(map(lambda p: p.text, soup.find_all('p')))\n",
    "    \n",
    "    title = ' '.join(soup.title.stripped_strings)\n",
    "    return title, text"
   ]
  },
  {
   "cell_type": "markdown",
   "id": "f0c93b3b",
   "metadata": {},
   "source": [
    "### Calling the function for the desired news article"
   ]
  },
  {
   "cell_type": "code",
   "execution_count": 4,
   "id": "a5afdc78",
   "metadata": {},
   "outputs": [],
   "source": [
    "text = get_only_text(\"https://www.vox.com/22685718/build-back-better-act-prescription-drug-prices-agenda\")"
   ]
  },
  {
   "cell_type": "code",
   "execution_count": 5,
   "id": "2d5c0ffb",
   "metadata": {},
   "outputs": [
    {
     "data": {
      "text/plain": [
       "('Build Back Better Act’s health care section turns on cutting drug costs - Vox',\n",
       " 'Democrats can’t do much on health care if they don’t cut prescription drug costs. Democrats had big dreams for health care reform this year. In the forthcoming budget reconciliation bill, they planned to cover millions of uninsured people and offer dental and vision benefits to people on Medicare, while also cutting prescription drug costs. But now those grand ambitions are crashing against the hard reality of legislating with incredibly narrow margins in Congress. If only a few members balk at what the Biden White House and Democratic leaders want to do, that could be enough to doom the bill — or at least the major health care proposals. Right now, it all depends on the fate of the prescription drug proposals. Democrats need to come up with a plan to pay for the health care provisions because centrists are demanding it. From an accounting perspective, the drug plan — which gives Medicare more power to set prices for medications — is projected to save the government hundreds of billions of dollars in the coming decades. Democrats are using those savings to expand coverage in Medicaid and Medicare. There’s just one problem: Some Democrats are now saying they won’t support the prescription drug reforms. \\n    Related\\n   The first signs of trouble surfaced last week in the House Energy and Commerce Committee. As members debated the health care section of the reconciliation bill, it became clear that a handful of Democrats had problems with the drug proposal, which the pharmaceutical industry vigorously opposes. At the final vote on the provision, three Democrats opposed it, enough to block it in that committee. That doesn’t mean the proposal is out — a separate House committee has approved it, and the House is still assembling their final bill — but already, enough Democrats have signaled skepticism about the drug plan that its inclusion could theoretically doom the bill entirely. Centrist Democrats in the Senate have also made their queasiness clear. It’s obvious the prescription drug overhaul is in trouble — and with it, potentially, much of the Democrats’ health care agenda.  Without it, congressional leaders would need to either find another source of revenue or start scaling back their plans. Considering the prescription drug reforms cover most of the spending in the bill as currently conceived, a lot of stuff might have to go, meaning some big issues in US health care would be left unaddressed. The sheer cost of the reconciliation bill is going to factor into the debate to come; Sen. Joe Manchin (D-WV), a key swing vote, has already said as much. From a budgetary perspective, all of the Democrats’ health care proposals are connected, with some paying for the others. Their total cost is about $600 billion out of a $3.5 trillion bill. But their breadth is also a reflection of the many problems remaining in the US health system. The Democratic health care agenda starts with finishing the Obamacare project by covering people who haven’t received benefits through the law so far. Congress already approved a temporary expansion of tax subsidies for private health insurance so more middle-class Americans can buy individual coverage through the law, and they want to make those permanent in the reconciliation bill. About 270,000 people newly eligible for subsidies already signed up for coverage during a special enrollment period this year. In that previous bill, they also tried to close the Medicaid expansion gap. Right now, 4 million currently uninsured Americans living in or near poverty are not eligible for Medicaid, but they would be covered if their state accepted the law’s Medicaid expansion funding. Democrats offered the dozen holdout states more Medicaid dollars if they finally adopted the expansion. But no state has come around.  So as part of this budget reconciliation bill, Democrats have a different plan to cover those people through private insurance before moving them to a new federal program. It would close a hole in the Affordable Care Act that has disproportionately affected Black Americans living in the South. Beyond Obamacare, Democrats also want to add new dental benefits to Medicare. It’s a particular priority for Sen. Bernie Sanders, who chairs the powerful budget committee in the Senate.  Right now, the traditional program doesn’t cover those benefits; Medicare Advantage, a growing private alternative, usually does. As a result, nearly half of Medicare beneficiaries (47 percent, 23.6 million people) don’t have dental coverage and about half have not seen a dentist in more than a year. The budget reconciliation bill would also, as currently written, add vision and hearing benefits for Medicare’s beneficiaries. This would make a program that has a lot of gaps more comprehensive. There has also been speculation that these proposals would be a political boon to Democrats by extending new benefits to a reliable voting bloc. But all of these proposals cost money. Dental, vision, and hearing, for example, could cost around $350 billion over 10 years, depending on when exactly benefits are set to kick in. That is why the prescription drug savings are important for the legislation’s financing. The Congressional Budget Office has estimated a previous iteration of what Democrats are proposing in the reconciliation bill would have saved Medicare more than $450 billion over 10 years.  Enough to cover new Medicare dental and vision benefits — and then some. The plan saves a lot of money because Democrats are proposing significant changes for prescription drugs, proposals they have been running on in campaigns for years now.  The bill includes a plan for Medicare to negotiate prices with drug companies that would set a ceiling for what Medicare would pay for certain medications: no higher than 120 percent of what several other wealthy countries pay. Pharmaceutical companies that did not participate in the negotiations would be subject to a severe excise tax. The proposal is not just an accounting mechanism. Affording prescription drugs is a problem for a lot of Americans. As of 2016, Medicare beneficiaries spent $650 per year on average out of pocket on prescription drugs, with people who have serious conditions spending significantly more, and there is no cap on what patients can be asked to pay for drugs if they require a lot of them.  Medicare beneficiaries would see premiums for their Part D plan fall by 10 to 15 percent under such a plan, according to a Kaiser Family Foundation estimate. The new lower prices would also be available to private insurers, which could lower premiums for those plans too. But those savings come out of the drug industry’s pocket, and so drug makers strongly oppose such a plan. They warn that the spending cuts would lead to less investment in research and development to find innovative drugs. Independent analysts like the Congressional Budget Office agree that fewer drugs would likely be approved as a result of the Democratic plan but also make clear there is a lot of uncertainty in these projections. Regardless, the drug industry’s opposition has found receptive ears in Congress. Reps. Scott Peters (D-CA), Kurt Schrader (D-OR), and Kathleen Rice (D-NY) voted against the drug plan in the Energy and Commerce hearing. Rep. Stephanie Murphy (D-FL) voiced concerns in the Ways and Means Committee and opposed the final product. Those four alone would be enough to sink the proposal on the House floor.  For now, the prescription drug reforms are still in the bill and the moderates have said they’re interested in finding a compromise. The story isn’t over yet. But it may be a similar situation in the Senate, where Sen. Kyrsten Sinema (D-AZ) reportedly told the White House she wasn’t comfortable with the plan as written either. In that chamber, one senator could stop the reconciliation bill. That is the riddle congressional leaders and the Biden White House have to solve in the coming weeks and months — in the face of fierce industry opposition and with the fate of their health care agenda, with serious consequences for American patients, hanging in the balance. We have a request \\n    In moments like this — as people grapple to understand variants and vaccines, and kids head back to school — many outlets take their paywalls down. Vox’s content is always free, in part because of financial support from our readers. We’ve been covering the Covid-19 pandemic for more than a year and a half. From the beginning, our goal was to bring clarity to chaos. To empower people with the information they needed to stay safe. And we’re not stopping.\\r\\n\\r\\nTo our delight, you, our readers, helped us hit our goal of adding 2,500 financial contributions in September in just 9 days. So we’re setting a new goal: to add 4,500 contributions by the end of the month. Reader support helps keep our coverage free, and is a critical part of sustaining our resource-intensive work.  Will you help us reach our goal by making a contribution to Vox with as little as $3?\\n Understand how policy impacts people. Delivered Fridays. Check your inbox for a welcome email.')"
      ]
     },
     "execution_count": 5,
     "metadata": {},
     "output_type": "execute_result"
    }
   ],
   "source": [
    "text"
   ]
  },
  {
   "cell_type": "markdown",
   "id": "0139b788",
   "metadata": {},
   "source": [
    "### Check Number of Words of Original Text"
   ]
  },
  {
   "cell_type": "code",
   "execution_count": 6,
   "id": "fc852f04",
   "metadata": {},
   "outputs": [
    {
     "data": {
      "text/plain": [
       "1500"
      ]
     },
     "execution_count": 6,
     "metadata": {},
     "output_type": "execute_result"
    }
   ],
   "source": [
    "len(str.split(text[1]))"
   ]
  },
  {
   "cell_type": "markdown",
   "id": "ea003ee6",
   "metadata": {},
   "source": [
    "## Summarization using Gensim"
   ]
  },
  {
   "cell_type": "code",
   "execution_count": 8,
   "id": "147b97ef",
   "metadata": {},
   "outputs": [],
   "source": [
    "from gensim.summarization.summarizer import summarize\n",
    "from gensim.summarization import keywords"
   ]
  },
  {
   "cell_type": "markdown",
   "id": "f786141e",
   "metadata": {},
   "source": [
    "## 1 - Word Count "
   ]
  },
  {
   "cell_type": "code",
   "execution_count": 9,
   "id": "ea606f72",
   "metadata": {},
   "outputs": [
    {
     "name": "stdout",
     "output_type": "stream",
     "text": [
      "Title:  Build Back Better Act’s health care section turns on cutting drug costs - Vox\n",
      "Summary: \n",
      "In the forthcoming budget reconciliation bill, they planned to cover millions of uninsured people and offer dental and vision benefits to people on Medicare, while also cutting prescription drug costs.\n",
      "From an accounting perspective, the drug plan — which gives Medicare more power to set prices for medications — is projected to save the government hundreds of billions of dollars in the coming decades.\n",
      "As members debated the health care section of the reconciliation bill, it became clear that a handful of Democrats had problems with the drug proposal, which the pharmaceutical industry vigorously opposes.\n",
      "So as part of this budget reconciliation bill, Democrats have a different plan to cover those people through private insurance before moving them to a new federal program.\n",
      "The Congressional Budget Office has estimated a previous iteration of what Democrats are proposing in the reconciliation bill would have saved Medicare more than $450 billion over 10 years.\n"
     ]
    }
   ],
   "source": [
    "print(\"Title: \", text[0])\n",
    "print(\"Summary: \")\n",
    "print(summarize(repr(text), word_count=150))"
   ]
  },
  {
   "cell_type": "code",
   "execution_count": 10,
   "id": "8887c1d4",
   "metadata": {},
   "outputs": [
    {
     "data": {
      "text/plain": [
       "152"
      ]
     },
     "execution_count": 10,
     "metadata": {},
     "output_type": "execute_result"
    }
   ],
   "source": [
    "len(str.split(summarize(repr(text), word_count=150)))"
   ]
  },
  {
   "cell_type": "markdown",
   "id": "8b443fc9",
   "metadata": {},
   "source": [
    "## 2 - Summarized Text on term of ratio"
   ]
  },
  {
   "cell_type": "code",
   "execution_count": 14,
   "id": "990d8d03",
   "metadata": {},
   "outputs": [
    {
     "name": "stdout",
     "output_type": "stream",
     "text": [
      "Title:  Build Back Better Act’s health care section turns on cutting drug costs - Vox\n",
      "Summary: \n",
      "In the forthcoming budget reconciliation bill, they planned to cover millions of uninsured people and offer dental and vision benefits to people on Medicare, while also cutting prescription drug costs.\n",
      "From an accounting perspective, the drug plan — which gives Medicare more power to set prices for medications — is projected to save the government hundreds of billions of dollars in the coming decades.\n",
      "As members debated the health care section of the reconciliation bill, it became clear that a handful of Democrats had problems with the drug proposal, which the pharmaceutical industry vigorously opposes.\n",
      "Considering the prescription drug reforms cover most of the spending in the bill as currently conceived, a lot of stuff might have to go, meaning some big issues in US health care would be left unaddressed.\n",
      "So as part of this budget reconciliation bill, Democrats have a different plan to cover those people through private insurance before moving them to a new federal program.\n",
      "The Congressional Budget Office has estimated a previous iteration of what Democrats are proposing in the reconciliation bill would have saved Medicare more than $450 billion over 10 years.\n",
      "The plan saves a lot of money because Democrats are proposing significant changes for prescription drugs, proposals they have been running on in campaigns for years now.\n"
     ]
    }
   ],
   "source": [
    "print(\"Title: \", text[0])\n",
    "print(\"Summary: \")\n",
    "print(summarize(repr(text), ratio=0.1))"
   ]
  },
  {
   "cell_type": "code",
   "execution_count": null,
   "id": "45652ad4",
   "metadata": {},
   "outputs": [],
   "source": [
    "## 3- Getting Keyword"
   ]
  }
 ],
 "metadata": {
  "kernelspec": {
   "display_name": "Python 3 (ipykernel)",
   "language": "python",
   "name": "python3"
  },
  "language_info": {
   "codemirror_mode": {
    "name": "ipython",
    "version": 3
   },
   "file_extension": ".py",
   "mimetype": "text/x-python",
   "name": "python",
   "nbconvert_exporter": "python",
   "pygments_lexer": "ipython3",
   "version": "3.7.11"
  }
 },
 "nbformat": 4,
 "nbformat_minor": 5
}
