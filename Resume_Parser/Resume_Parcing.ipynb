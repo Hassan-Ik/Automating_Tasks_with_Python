{
 "cells": [
  {
   "cell_type": "code",
   "execution_count": 1,
   "id": "bc4b887a",
   "metadata": {},
   "outputs": [],
   "source": [
    "#  Natural Language Processing\n",
    "import spacy\n",
    "# Minning data from pdf\n",
    "import pdfminer\n",
    "# For Search \n",
    "import re\n",
    "# Accessing OS\n",
    "import os\n",
    "# For Accessing and creating dataframes\n",
    "import pandas as pd\n",
    "# Converting Pdf to Text\n",
    "import pdf2txt"
   ]
  },
  {
   "cell_type": "code",
   "execution_count": 32,
   "id": "77150dd7",
   "metadata": {},
   "outputs": [],
   "source": [
    "def convert_pdf(file):\n",
    "    \"\"\"\n",
    "        Convert Pdf File to Txt file using pdf2txt module\n",
    "    \"\"\"\n",
    "    output_filename = os.path.basename(os.path.splitext(file)[0]) + \".txt\"\n",
    "    output_filepath = os.path.join(\"output/text/\", output_filename)\n",
    "#     pdf2txt.main(args=[file, \"--outfile\", output_filepath])\n",
    "    print(output_filepath + \" saved successfully!\")\n",
    "    return open(output_filepath).read()"
   ]
  },
  {
   "cell_type": "code",
   "execution_count": 21,
   "id": "b6a0f18a",
   "metadata": {},
   "outputs": [],
   "source": [
    "nlp = spacy.load(\"en_core_web_sm\")"
   ]
  },
  {
   "cell_type": "code",
   "execution_count": 22,
   "id": "b7815017",
   "metadata": {},
   "outputs": [],
   "source": [
    "result_dict = {'name': [], 'phone': [], 'email': [], 'skills': [], 'experience':[], 'experience_year': [], 'worked_role': []}\n",
    "names = []\n",
    "phones = []\n",
    "emails = []\n",
    "skills = []\n",
    "experience = []\n",
    "experience_year = []\n",
    "worked_role = []"
   ]
  },
  {
   "cell_type": "code",
   "execution_count": 29,
   "id": "47ab25ea",
   "metadata": {},
   "outputs": [],
   "source": [
    "def parse_content(text):\n",
    "    skillset = re.compile(\"python|java|sql|hadoop|tableau|scikit-learn|tensorflow|keras\")\n",
    "    phone_num = re.compile(\"(\\d{3}[-\\.\\s]??\\d{3}[-\\.\\s]??\\d{4}|\\(\\d{3}\\)\\s*\\d{3}[-\\.\\s]??\\d{4}|\\d{3}[-\\.\\s]??\\d{4})\")\n",
    "    \n",
    "    doc = nlp(text)\n",
    "    name = [entity.text for entity in doc.ents if entity.label_ is \"PERSON\"][0]\n",
    "    print(name)\n",
    "    email = [word for word in doc if word.like_email == True][0]\n",
    "    print(email)\n",
    "    phone = str(re.findall(phone_num, text.lower()))\n",
    "    skills_list = re.findall(skillset, text.lower())\n",
    "    unique_skills_list = str(set(skills_list))\n",
    "    experiences = re.findall()\n",
    "    experience_years = re.findall()\n",
    "    worked_roles = re.findall()\n",
    "    names.append(name)\n",
    "    email.append(email)\n",
    "    phones.append(phone)\n",
    "    skills.append(unique_skills_list)\n",
    "    experience.append(experiences)\n",
    "    experience_year.append(experience_years)\n",
    "    worked_role.append(worked_roles)\n",
    "    print(\"Extraction completed successfully!!!\")\n",
    "    "
   ]
  },
  {
   "cell_type": "code",
   "execution_count": 33,
   "id": "b8addb3e",
   "metadata": {
    "scrolled": true
   },
   "outputs": [
    {
     "name": "stdout",
     "output_type": "stream",
     "text": [
      "Reading.....resume.pdf\n",
      "output/text/resume.txt saved successfully!\n"
     ]
    },
    {
     "ename": "UnicodeDecodeError",
     "evalue": "'charmap' codec can't decode byte 0x81 in position 1685: character maps to <undefined>",
     "output_type": "error",
     "traceback": [
      "\u001b[1;31m---------------------------------------------------------------------------\u001b[0m",
      "\u001b[1;31mUnicodeDecodeError\u001b[0m                        Traceback (most recent call last)",
      "\u001b[1;32m~\\AppData\\Local\\Temp/ipykernel_15304/350280771.py\u001b[0m in \u001b[0;36m<module>\u001b[1;34m\u001b[0m\n\u001b[0;32m      2\u001b[0m     \u001b[1;32mif\u001b[0m \u001b[0mfile\u001b[0m\u001b[1;33m.\u001b[0m\u001b[0mendswith\u001b[0m\u001b[1;33m(\u001b[0m\u001b[1;34m\".pdf\"\u001b[0m\u001b[1;33m)\u001b[0m\u001b[1;33m:\u001b[0m\u001b[1;33m\u001b[0m\u001b[1;33m\u001b[0m\u001b[0m\n\u001b[0;32m      3\u001b[0m         \u001b[0mprint\u001b[0m\u001b[1;33m(\u001b[0m\u001b[1;34m'Reading.....'\u001b[0m \u001b[1;33m+\u001b[0m \u001b[0mfile\u001b[0m\u001b[1;33m)\u001b[0m\u001b[1;33m\u001b[0m\u001b[1;33m\u001b[0m\u001b[0m\n\u001b[1;32m----> 4\u001b[1;33m         \u001b[0mtxt\u001b[0m \u001b[1;33m=\u001b[0m \u001b[0mconvert_pdf\u001b[0m\u001b[1;33m(\u001b[0m\u001b[0mos\u001b[0m\u001b[1;33m.\u001b[0m\u001b[0mpath\u001b[0m\u001b[1;33m.\u001b[0m\u001b[0mjoin\u001b[0m\u001b[1;33m(\u001b[0m\u001b[1;34m'resumes/'\u001b[0m\u001b[1;33m,\u001b[0m \u001b[0mfile\u001b[0m\u001b[1;33m)\u001b[0m\u001b[1;33m)\u001b[0m\u001b[1;33m\u001b[0m\u001b[1;33m\u001b[0m\u001b[0m\n\u001b[0m\u001b[0;32m      5\u001b[0m         \u001b[0mparse_content\u001b[0m\u001b[1;33m(\u001b[0m\u001b[0mtxt\u001b[0m\u001b[1;33m)\u001b[0m\u001b[1;33m\u001b[0m\u001b[1;33m\u001b[0m\u001b[0m\n",
      "\u001b[1;32m~\\AppData\\Local\\Temp/ipykernel_15304/909757080.py\u001b[0m in \u001b[0;36mconvert_pdf\u001b[1;34m(file)\u001b[0m\n\u001b[0;32m      7\u001b[0m \u001b[1;31m#     pdf2txt.main(args=[file, \"--outfile\", output_filepath])\u001b[0m\u001b[1;33m\u001b[0m\u001b[1;33m\u001b[0m\u001b[1;33m\u001b[0m\u001b[0m\n\u001b[0;32m      8\u001b[0m     \u001b[0mprint\u001b[0m\u001b[1;33m(\u001b[0m\u001b[0moutput_filepath\u001b[0m \u001b[1;33m+\u001b[0m \u001b[1;34m\" saved successfully!\"\u001b[0m\u001b[1;33m)\u001b[0m\u001b[1;33m\u001b[0m\u001b[1;33m\u001b[0m\u001b[0m\n\u001b[1;32m----> 9\u001b[1;33m     \u001b[1;32mreturn\u001b[0m \u001b[0mopen\u001b[0m\u001b[1;33m(\u001b[0m\u001b[0moutput_filepath\u001b[0m\u001b[1;33m)\u001b[0m\u001b[1;33m.\u001b[0m\u001b[0mread\u001b[0m\u001b[1;33m(\u001b[0m\u001b[1;33m)\u001b[0m\u001b[1;33m\u001b[0m\u001b[1;33m\u001b[0m\u001b[0m\n\u001b[0m",
      "\u001b[1;32m~\\Anaconda3\\envs\\automate_python\\lib\\encodings\\cp1252.py\u001b[0m in \u001b[0;36mdecode\u001b[1;34m(self, input, final)\u001b[0m\n\u001b[0;32m     21\u001b[0m \u001b[1;32mclass\u001b[0m \u001b[0mIncrementalDecoder\u001b[0m\u001b[1;33m(\u001b[0m\u001b[0mcodecs\u001b[0m\u001b[1;33m.\u001b[0m\u001b[0mIncrementalDecoder\u001b[0m\u001b[1;33m)\u001b[0m\u001b[1;33m:\u001b[0m\u001b[1;33m\u001b[0m\u001b[1;33m\u001b[0m\u001b[0m\n\u001b[0;32m     22\u001b[0m     \u001b[1;32mdef\u001b[0m \u001b[0mdecode\u001b[0m\u001b[1;33m(\u001b[0m\u001b[0mself\u001b[0m\u001b[1;33m,\u001b[0m \u001b[0minput\u001b[0m\u001b[1;33m,\u001b[0m \u001b[0mfinal\u001b[0m\u001b[1;33m=\u001b[0m\u001b[1;32mFalse\u001b[0m\u001b[1;33m)\u001b[0m\u001b[1;33m:\u001b[0m\u001b[1;33m\u001b[0m\u001b[1;33m\u001b[0m\u001b[0m\n\u001b[1;32m---> 23\u001b[1;33m         \u001b[1;32mreturn\u001b[0m \u001b[0mcodecs\u001b[0m\u001b[1;33m.\u001b[0m\u001b[0mcharmap_decode\u001b[0m\u001b[1;33m(\u001b[0m\u001b[0minput\u001b[0m\u001b[1;33m,\u001b[0m\u001b[0mself\u001b[0m\u001b[1;33m.\u001b[0m\u001b[0merrors\u001b[0m\u001b[1;33m,\u001b[0m\u001b[0mdecoding_table\u001b[0m\u001b[1;33m)\u001b[0m\u001b[1;33m[\u001b[0m\u001b[1;36m0\u001b[0m\u001b[1;33m]\u001b[0m\u001b[1;33m\u001b[0m\u001b[1;33m\u001b[0m\u001b[0m\n\u001b[0m\u001b[0;32m     24\u001b[0m \u001b[1;33m\u001b[0m\u001b[0m\n\u001b[0;32m     25\u001b[0m \u001b[1;32mclass\u001b[0m \u001b[0mStreamWriter\u001b[0m\u001b[1;33m(\u001b[0m\u001b[0mCodec\u001b[0m\u001b[1;33m,\u001b[0m\u001b[0mcodecs\u001b[0m\u001b[1;33m.\u001b[0m\u001b[0mStreamWriter\u001b[0m\u001b[1;33m)\u001b[0m\u001b[1;33m:\u001b[0m\u001b[1;33m\u001b[0m\u001b[1;33m\u001b[0m\u001b[0m\n",
      "\u001b[1;31mUnicodeDecodeError\u001b[0m: 'charmap' codec can't decode byte 0x81 in position 1685: character maps to <undefined>"
     ]
    }
   ],
   "source": [
    "for file in os.listdir(\"resumes/\"):\n",
    "    if file.endswith(\".pdf\"):\n",
    "        print('Reading.....' + file)\n",
    "        txt = convert_pdf(os.path.join('resumes/', file))\n",
    "        parse_content(txt)"
   ]
  },
  {
   "cell_type": "code",
   "execution_count": 45,
   "id": "5f9e4c16",
   "metadata": {},
   "outputs": [],
   "source": [
    "result_dict['name'] = names\n",
    "result_dict['phone'] = phones\n",
    "result_dict['email'] = emails\n",
    "result_dict['skills'] = skills\n",
    "result_dict['experience'] = experience\n",
    "result_dict['experience_years'] = experience_year\n",
    "result_dict['worked_role'] = worked_role"
   ]
  },
  {
   "cell_type": "code",
   "execution_count": 46,
   "id": "a87978f7",
   "metadata": {},
   "outputs": [
    {
     "name": "stdout",
     "output_type": "stream",
     "text": [
      "{'name': [], 'phone': [], 'email': [], 'skills': [], 'experience': [], 'experience_years': [], 'worked_role': []}\n"
     ]
    }
   ],
   "source": [
    "print(result_dict)"
   ]
  },
  {
   "cell_type": "code",
   "execution_count": 47,
   "id": "7eddd9ea",
   "metadata": {},
   "outputs": [
    {
     "data": {
      "text/html": [
       "<div>\n",
       "<style scoped>\n",
       "    .dataframe tbody tr th:only-of-type {\n",
       "        vertical-align: middle;\n",
       "    }\n",
       "\n",
       "    .dataframe tbody tr th {\n",
       "        vertical-align: top;\n",
       "    }\n",
       "\n",
       "    .dataframe thead th {\n",
       "        text-align: right;\n",
       "    }\n",
       "</style>\n",
       "<table border=\"1\" class=\"dataframe\">\n",
       "  <thead>\n",
       "    <tr style=\"text-align: right;\">\n",
       "      <th></th>\n",
       "      <th>name</th>\n",
       "      <th>phone</th>\n",
       "      <th>email</th>\n",
       "      <th>skills</th>\n",
       "      <th>experience</th>\n",
       "      <th>experience_years</th>\n",
       "      <th>worked_role</th>\n",
       "    </tr>\n",
       "  </thead>\n",
       "  <tbody>\n",
       "  </tbody>\n",
       "</table>\n",
       "</div>"
      ],
      "text/plain": [
       "Empty DataFrame\n",
       "Columns: [name, phone, email, skills, experience, experience_years, worked_role]\n",
       "Index: []"
      ]
     },
     "execution_count": 47,
     "metadata": {},
     "output_type": "execute_result"
    }
   ],
   "source": [
    "result_df = pd.DataFrame(result_dict)\n",
    "result_df"
   ]
  },
  {
   "cell_type": "code",
   "execution_count": 48,
   "id": "7a1e4cad",
   "metadata": {},
   "outputs": [],
   "source": [
    "result_df.to_csv('output/csv/parsed_resumes.csv') "
   ]
  }
 ],
 "metadata": {
  "kernelspec": {
   "display_name": "Python 3 (ipykernel)",
   "language": "python",
   "name": "python3"
  },
  "language_info": {
   "codemirror_mode": {
    "name": "ipython",
    "version": 3
   },
   "file_extension": ".py",
   "mimetype": "text/x-python",
   "name": "python",
   "nbconvert_exporter": "python",
   "pygments_lexer": "ipython3",
   "version": "3.7.11"
  }
 },
 "nbformat": 4,
 "nbformat_minor": 5
}
